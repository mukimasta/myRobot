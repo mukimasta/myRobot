{
 "cells": [
  {
   "cell_type": "code",
   "execution_count": null,
   "metadata": {},
   "outputs": [],
   "source": [
    "from myRobot import myRobot\n",
    "\n",
    "import torch\n",
    "\n",
    "path = "
   ]
  },
  {
   "cell_type": "code",
   "execution_count": null,
   "metadata": {},
   "outputs": [],
   "source": [
    "bot = myRobot()\n",
    "\n",
    "bot.set_detector(path)\n",
    "hits = bot.detect_objects()\n",
    "hits.show()"
   ]
  },
  {
   "cell_type": "code",
   "execution_count": null,
   "metadata": {},
   "outputs": [],
   "source": [
    "id = input(\"Enter the id of the object you want to pick up: \")\n",
    "\n",
    "bot.pick_object(int(id))\n",
    "\n",
    "bot.move_to(bot.translations_list, bot.rotations_list)\n",
    "\n"
   ]
  }
 ],
 "metadata": {
  "language_info": {
   "name": "python"
  }
 },
 "nbformat": 4,
 "nbformat_minor": 2
}
